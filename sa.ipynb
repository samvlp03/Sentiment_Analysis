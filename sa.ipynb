{
 "cells": [
  {
   "cell_type": "code",
   "execution_count": 4,
   "metadata": {},
   "outputs": [],
   "source": [
    "import xlrd\n",
    "import pandas as pd\n",
    "import numpy as np\n",
    "import nltk\n",
    "from nltk.corpus import stopwords\n",
    "from nltk.tokenize import word_tokenize\n",
    "from sklearn.feature_extraction.text import CountVectorizer\n",
    "from sklearn.model_selection import train_test_split\n",
    "from sklearn.naive_bayes import MultinomialNB\n",
    "from sklearn.metrics import accuracy_score"
   ]
  },
  {
   "cell_type": "code",
   "execution_count": 5,
   "metadata": {},
   "outputs": [
    {
     "name": "stderr",
     "output_type": "stream",
     "text": [
      "[nltk_data] Downloading package punkt to\n",
      "[nltk_data]     C:\\Users\\samar\\AppData\\Roaming\\nltk_data...\n",
      "[nltk_data]   Package punkt is already up-to-date!\n",
      "[nltk_data] Downloading package stopwords to\n",
      "[nltk_data]     C:\\Users\\samar\\AppData\\Roaming\\nltk_data...\n",
      "[nltk_data]   Package stopwords is already up-to-date!\n"
     ]
    },
    {
     "data": {
      "text/plain": [
       "True"
      ]
     },
     "execution_count": 5,
     "metadata": {},
     "output_type": "execute_result"
    }
   ],
   "source": [
    "# Download NLTK resources\n",
    "nltk.download('punkt')\n",
    "nltk.download('stopwords')\n"
   ]
  },
  {
   "cell_type": "code",
   "execution_count": 12,
   "metadata": {},
   "outputs": [],
   "source": [
    "# Load dataset from Excel using xlrd\n",
    "workbook = xlrd.open_workbook('edit01.xls')\n",
    "sheet = workbook.sheet_by_index(0)  # Assuming data is in the first sheet\n",
    "\n",
    "# Extract data from Excel sheet\n",
    "data = {\n",
    "    'TITLE': [],\n",
    "    'SelfText': [],\n",
    "    'Regret Type': [],\n",
    "    'Domain related to object': []\n",
    "}\n",
    "for row in range(1, sheet.nrows):\n",
    "    data['TITLE'].append(sheet.cell_value(row, 0))\n",
    "    data['SelfText'].append(sheet.cell_value(row, 1))\n",
    "    data['Regret Type'].append(sheet.cell_value(row, 2))\n",
    "    data['Domain related to object'].append(sheet.cell_value(row, 3))\n",
    "\n",
    "# Create DataFrame\n",
    "df = pd.DataFrame(data)\n",
    "\n",
    "# Fill missing values\n",
    "df.fillna('', inplace=True)"
   ]
  },
  {
   "cell_type": "code",
   "execution_count": 13,
   "metadata": {},
   "outputs": [],
   "source": [
    "# Preprocessing\n",
    "stop_words = set(stopwords.words('english'))\n",
    "def preprocess_text(text):\n",
    "    tokens = word_tokenize(str(text).lower())  # Tokenization and lowercasing\n",
    "    filtered_tokens = [word for word in tokens if word.isalnum() and word not in stop_words]  # Remove stopwords and non-alphanumeric tokens\n",
    "    return \" \".join(filtered_tokens)\n",
    "\n",
    "df['processed_text'] = df['TITLE'].apply(preprocess_text) + ' ' + df['SelfText'].apply(preprocess_text)\n",
    "# Update target variables\n",
    "y_regret = df['Regret Type']\n",
    "y_domain = df['Domain related to object']\n",
    "\n",
    "# Feature Extraction\n",
    "vectorizer = CountVectorizer()\n",
    "X = vectorizer.fit_transform(df['processed_text'])\n",
    "\n",
    "# Splitting dataset\n",
    "X_train, X_test, y_regret_train, y_regret_test, y_domain_train, y_domain_test = train_test_split(X, y_regret, y_domain, test_size=0.2, random_state=42)\n"
   ]
  },
  {
   "cell_type": "code",
   "execution_count": 14,
   "metadata": {},
   "outputs": [
    {
     "name": "stdout",
     "output_type": "stream",
     "text": [
      "Regret Detection Accuracy: 0.3333333333333333\n",
      "Predicted regret type: \n"
     ]
    }
   ],
   "source": [
    "# Model Training for Regret Detection\n",
    "regret_classifier = MultinomialNB()\n",
    "regret_classifier.fit(X_train, y_regret_train)\n",
    "\n",
    "# Model Evaluation for Regret Detection\n",
    "y_regret_pred = regret_classifier.predict(X_test)\n",
    "regret_accuracy = accuracy_score(y_regret_test, y_regret_pred)\n",
    "print(\"Regret Detection Accuracy:\", regret_accuracy)\n",
    "\n",
    "# Example Prediction for Regret Detection\n",
    "new_text = \"I regret not studying harder for my exam.\"\n",
    "new_text_vectorized = vectorizer.transform([preprocess_text(new_text)])\n",
    "regret_prediction = regret_classifier.predict(new_text_vectorized)\n",
    "print(\"Predicted regret type:\", regret_prediction[0])\n"
   ]
  },
  {
   "cell_type": "code",
   "execution_count": 15,
   "metadata": {},
   "outputs": [
    {
     "name": "stdout",
     "output_type": "stream",
     "text": [
      "Domain Identification Accuracy: 0.3333333333333333\n",
      "Predicted domain: \n"
     ]
    }
   ],
   "source": [
    "# Model Training for Domain Identification\n",
    "domain_classifier = MultinomialNB()\n",
    "domain_classifier.fit(X_train, y_domain_train)\n",
    "\n",
    "# Model Evaluation for Domain Identification\n",
    "y_domain_pred = domain_classifier.predict(X_test)\n",
    "domain_accuracy = accuracy_score(y_domain_test, y_domain_pred)\n",
    "print(\"Domain Identification Accuracy:\", domain_accuracy)\n",
    "\n",
    "# Example Prediction for Domain Identification\n",
    "new_text = \"I need advice on my health.\"\n",
    "new_text_vectorized = vectorizer.transform([preprocess_text(new_text)])\n",
    "domain_prediction = domain_classifier.predict(new_text_vectorized)\n",
    "print(\"Predicted domain:\", domain_prediction[0])"
   ]
  }
 ],
 "metadata": {
  "kernelspec": {
   "display_name": "Python 3",
   "language": "python",
   "name": "python3"
  },
  "language_info": {
   "codemirror_mode": {
    "name": "ipython",
    "version": 3
   },
   "file_extension": ".py",
   "mimetype": "text/x-python",
   "name": "python",
   "nbconvert_exporter": "python",
   "pygments_lexer": "ipython3",
   "version": "3.11.5"
  }
 },
 "nbformat": 4,
 "nbformat_minor": 2
}
